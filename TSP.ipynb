{
  "nbformat": 4,
  "nbformat_minor": 0,
  "metadata": {
    "colab": {
      "name": "TSP.ipynb",
      "provenance": [],
      "collapsed_sections": []
    },
    "kernelspec": {
      "name": "python3",
      "display_name": "Python 3"
    },
    "language_info": {
      "name": "python"
    }
  },
  "cells": [
    {
      "cell_type": "markdown",
      "metadata": {
        "id": "_AWVRlpd_S3P"
      },
      "source": [
        "#Solving Traveling Salesman Problem using Gurobi"
      ]
    },
    {
      "cell_type": "code",
      "metadata": {
        "colab": {
          "base_uri": "https://localhost:8080/"
        },
        "id": "dltgvyJm_SO0",
        "outputId": "ad7eb1ac-32e7-44d9-9272-182a4530e91d"
      },
      "source": [
        "%pip install gurobipy"
      ],
      "execution_count": 1,
      "outputs": [
        {
          "output_type": "stream",
          "text": [
            "Collecting gurobipy\n",
            "  Downloading gurobipy-9.1.2-cp37-cp37m-manylinux1_x86_64.whl (11.1 MB)\n",
            "\u001b[K     |████████████████████████████████| 11.1 MB 136 kB/s \n",
            "\u001b[?25hInstalling collected packages: gurobipy\n",
            "Successfully installed gurobipy-9.1.2\n"
          ],
          "name": "stdout"
        }
      ]
    },
    {
      "cell_type": "code",
      "metadata": {
        "id": "z7c318So_e53"
      },
      "source": [
        "import numpy as np\n",
        "import pandas as pd\n",
        "from random import random\n",
        "import matplotlib.pyplot as plt\n",
        "import gurobipy as gp\n",
        "from gurobipy import GRB"
      ],
      "execution_count": 211,
      "outputs": []
    },
    {
      "cell_type": "code",
      "metadata": {
        "id": "87p0OG5Au6Ng"
      },
      "source": [
        "def get_route(stations, dist, start=0):\n",
        "  \"\"\"Get the shortest route\"\"\"\n",
        "  n_stations = len(stations)\n",
        "  u_stations = list(range(n_stations))\n",
        "\n",
        "  model = gp.Model()\n",
        "  x = model.addVars(dist.keys(), vtype=GRB.BINARY, name='x')\n",
        "  u = model.addVars(u_stations, vtype=GRB.CONTINUOUS, name='u')\n",
        "\n",
        "  c_row = model.addConstrs(gp.quicksum(x[i,j] for j in u_stations if j!=i)==1 for i in u_stations)\n",
        "  c_col = model.addConstrs(gp.quicksum(x[i,j] for i in u_stations if j!=i)==1 for j in u_stations)\n",
        "  c_connect = model.addConstrs((x[i,j]==1) >> (u[i]+1==u[j]) for i,j in dist.keys() if j!=0)\n",
        "\n",
        "  model.setObjective(gp.quicksum(dist[arc]*x[arc] for arc in dist.keys()), GRB.MINIMIZE)\n",
        "  model.optimize()\n",
        "\n",
        "  conn = {}\n",
        "  for k, v in zip(dist.keys(), model.getVars()):\n",
        "    if v.X > 0.5:\n",
        "      conn[k[0]] = k[1]\n",
        "  \n",
        "  head = start\n",
        "  result = [head]\n",
        "  for _ in range(n_stations-1):\n",
        "    result.append(conn[head])\n",
        "    head = conn[head]\n",
        "  return result"
      ],
      "execution_count": 230,
      "outputs": []
    },
    {
      "cell_type": "code",
      "metadata": {
        "colab": {
          "base_uri": "https://localhost:8080/"
        },
        "id": "JeMMeeEvBeOs",
        "outputId": "c0cc5c3a-707f-49a9-a533-0fdb20b91231"
      },
      "source": [
        "stations = []\n",
        "n_stations = 25\n",
        "\n",
        "for _ in range(n_stations):\n",
        "  x = random()\n",
        "  y = random()\n",
        "  stations.append((x,y))\n",
        "\n",
        "def d_eu(p1, p2):\n",
        "  return ((p1[0] - p2[0])**2+(p1[1] - p2[1])**2)**0.5\n",
        "\n",
        "dist = {(i1, i2): d_eu(s1, s2) for i1, s1 in enumerate(stations) for i2, s2 in enumerate(stations) if i1 != i2}\n",
        "\n",
        "route = get_route(stations, dist)"
      ],
      "execution_count": 231,
      "outputs": [
        {
          "output_type": "stream",
          "text": [
            "Gurobi Optimizer version 9.1.2 build v9.1.2rc0 (linux64)\n",
            "Thread count: 1 physical cores, 2 logical processors, using up to 2 threads\n",
            "Optimize a model with 50 rows, 625 columns and 1200 nonzeros\n",
            "Model fingerprint: 0xb8ac4b93\n",
            "Model has 576 general constraints\n",
            "Variable types: 25 continuous, 600 integer (600 binary)\n",
            "Coefficient statistics:\n",
            "  Matrix range     [1e+00, 1e+00]\n",
            "  Objective range  [4e-02, 1e+00]\n",
            "  Bounds range     [1e+00, 1e+00]\n",
            "  RHS range        [1e+00, 1e+00]\n",
            "Presolve added 576 rows and 576 columns\n",
            "Presolve time: 0.02s\n",
            "Presolved: 626 rows, 1201 columns, 2652 nonzeros\n",
            "Presolved model has 576 SOS constraint(s)\n",
            "Variable types: 601 continuous, 600 integer (600 binary)\n",
            "\n",
            "Root relaxation: objective 3.124446e+00, 39 iterations, 0.00 seconds\n",
            "\n",
            "    Nodes    |    Current Node    |     Objective Bounds      |     Work\n",
            " Expl Unexpl |  Obj  Depth IntInf | Incumbent    BestBd   Gap | It/Node Time\n",
            "\n",
            "     0     0    3.12445    0   24          -    3.12445      -     -    0s\n",
            "     0     0    3.12445    0   24          -    3.12445      -     -    0s\n",
            "     0     2    3.29286    0   24          -    3.29286      -     -    0s\n",
            "H   18    14                       6.8604662    3.29286  52.0%   2.2    0s\n",
            "H   54    40                       5.6194180    3.29286  41.4%   1.6    0s\n",
            "*   61    45              31       5.4782398    3.29286  39.9%   1.6    0s\n",
            "*   63    45              32       5.4373908    3.29286  39.4%   1.6    0s\n",
            "*  312   192              41       5.4264241    3.29286  39.3%   1.7    0s\n",
            "H  462   272                       5.1903368    3.29286  36.6%   1.7    0s\n",
            "*  715   338              47       5.1641327    3.36913  34.8%   1.8    0s\n",
            "*  816   356              53       5.0999266    3.36913  33.9%   1.8    0s\n",
            "H  940   373                       4.8488384    3.36913  30.5%   1.8    0s\n",
            "H  943   359                       4.8382857    3.36913  30.4%   1.8    0s\n",
            "H 1180   384                       4.8382486    3.36913  30.4%   1.7    0s\n",
            "* 1267   374              56       4.4919218    3.36913  25.0%   1.7    0s\n",
            "H 1812   574                       4.2954949    3.36913  21.6%   1.7    1s\n",
            "H 1866   553                       4.2425149    3.36913  20.6%   1.7    1s\n",
            "* 4041  1382              50       4.2299853    3.36913  20.4%   1.8    1s\n",
            "H 5376  1784                       4.2276500    3.43917  18.7%   1.8    2s\n",
            "H 5386  1794                       4.2276129    3.43917  18.6%   1.8    2s\n",
            "* 6281  2010              50       4.1703582    3.46784  16.8%   1.8    2s\n",
            "* 6282  1998              50       4.1598056    3.46784  16.6%   1.8    2s\n",
            "H 7057  2004                       4.0613149    3.49446  14.0%   1.8    2s\n",
            " 18410  2811    3.97112   40   11    4.06131    3.67095  9.61%   1.8    5s\n",
            "*20164  2798              45       4.0517437    3.69078  8.91%   1.8    5s\n",
            "H20167  2689                       4.0262619    3.69078  8.33%   1.8    5s\n",
            "\n",
            "Explored 35690 nodes (64984 simplex iterations) in 8.31 seconds\n",
            "Thread count was 2 (of 2 available processors)\n",
            "\n",
            "Solution count 10: 4.02626 4.05174 4.06131 ... 4.29549\n",
            "\n",
            "Optimal solution found (tolerance 1.00e-04)\n",
            "Best objective 4.026261935030e+00, best bound 4.026085910160e+00, gap 0.0044%\n"
          ],
          "name": "stdout"
        }
      ]
    },
    {
      "cell_type": "code",
      "metadata": {
        "colab": {
          "base_uri": "https://localhost:8080/",
          "height": 608
        },
        "id": "kXvCnKW1wwLN",
        "outputId": "72863e84-36ac-4b5f-ee55-16d9e2127de1"
      },
      "source": [
        "fig, axs = plt.subplots(1,2,figsize=(20,10))\n",
        "\n",
        "for i, idx in enumerate(route):\n",
        "  axs[0].text(*stations[idx], idx)\n",
        "  axs[1].text(*stations[idx], idx)\n",
        "\n",
        "for i, idx in enumerate(route[:-1]):\n",
        "  x, y = stations[idx]\n",
        "  dx, dy = stations[route[i+1]][0]-x, stations[route[i+1]][1]-y\n",
        "  axs[1].arrow(x, y, dx, dy, color=\"red\", head_width=0.015, length_includes_head=True)\n",
        "\n",
        "axs[0].set_xlim([-0.1, 1.1])\n",
        "axs[0].set_ylim([-0.1, 1.1])\n",
        "axs[1].set_xlim([-0.1, 1.1])\n",
        "axs[1].set_ylim([-0.1, 1.1])"
      ],
      "execution_count": 233,
      "outputs": [
        {
          "output_type": "execute_result",
          "data": {
            "text/plain": [
              "(-0.1, 1.1)"
            ]
          },
          "metadata": {
            "tags": []
          },
          "execution_count": 233
        },
        {
          "output_type": "display_data",
          "data": {
            "image/png": "[encoded data removed]",
            "text/plain": [
              "<Figure size 1440x720 with 2 Axes>"
            ]
          },
          "metadata": {
            "tags": [],
            "needs_background": "light"
          }
        }
      ]
    },
    {
      "cell_type": "code",
      "metadata": {
        "id": "fMj6FYh20Dvs"
      },
      "source": [
        ""
      ],
      "execution_count": null,
      "outputs": []
    }
  ]
}